{
 "cells": [
  {
   "cell_type": "code",
   "execution_count": 1,
   "id": "0c897032-082c-450a-9721-36f280ebf757",
   "metadata": {},
   "outputs": [],
   "source": [
    "import pandas as pd\n",
    "df=pd.read_csv(\"drug_list_simple.csv\",index_col=0)"
   ]
  },
  {
   "cell_type": "code",
   "execution_count": 4,
   "id": "74cd4710-75f6-4ad6-8af9-0ad3691b7b1b",
   "metadata": {},
   "outputs": [],
   "source": [
    "df.columns=['Drug_Name', 'Drug_bank_ID', 'Drug_application_number', 'Drug_title',\n",
    "       'Drug_sub_title', 'Applicaion_number', 'Drug_name.1', 'Substance_name',\n",
    "       'Sponsor_name', 'URL', 'Full_name', 'Date', 'File_type',\n",
    "       'Effective_time', 'Version', 'Indications_and_usage', 'Warnings',\n",
    "       'Adverse_reactions', 'Indications_and_usage_from_labeling',\n",
    "       'Adverse_reactions_from_labeling']"
   ]
  },
  {
   "cell_type": "code",
   "execution_count": 5,
   "id": "85dec9cb-8c5d-49c6-a402-6e0e892eeb01",
   "metadata": {},
   "outputs": [],
   "source": [
    "df.to_csv(\"drug_list_simple.csv\",encoding=\"utf-8\")"
   ]
  },
  {
   "cell_type": "code",
   "execution_count": null,
   "id": "2278cefc-ff1e-42d7-a957-98684f39e731",
   "metadata": {},
   "outputs": [],
   "source": []
  }
 ],
 "metadata": {
  "kernelspec": {
   "display_name": "Python 3",
   "language": "python",
   "name": "python3"
  },
  "language_info": {
   "codemirror_mode": {
    "name": "ipython",
    "version": 3
   },
   "file_extension": ".py",
   "mimetype": "text/x-python",
   "name": "python",
   "nbconvert_exporter": "python",
   "pygments_lexer": "ipython3",
   "version": "3.8.10"
  }
 },
 "nbformat": 4,
 "nbformat_minor": 5
}
